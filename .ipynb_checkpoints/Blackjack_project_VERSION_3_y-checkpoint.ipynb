{
 "cells": [
  {
   "cell_type": "code",
   "execution_count": 1,
   "id": "f90c4f72",
   "metadata": {},
   "outputs": [],
   "source": [
    "import random\n",
    "from IPython.display import clear_output"
   ]
  },
  {
   "cell_type": "code",
   "execution_count": 2,
   "id": "6ac7846f",
   "metadata": {},
   "outputs": [],
   "source": [
    "def draw_card(x): # Function to draw card and remove from the deck\n",
    "    draw = random.choice(x)\n",
    "    x.remove(draw)\n",
    "    return draw"
   ]
  },
  {
   "cell_type": "code",
   "execution_count": 3,
   "id": "be71a41f",
   "metadata": {},
   "outputs": [],
   "source": [
    "def count_hand(x): # Function to count assigned hand\n",
    "    return sum(x)"
   ]
  },
  {
   "cell_type": "code",
   "execution_count": 4,
   "id": "bef90b91",
   "metadata": {},
   "outputs": [],
   "source": [
    "def print_table(x, y, z, a): # Continiously print the board, only showing dealers second card\n",
    "    clear_output() # Will make sure that the print of the table wont stack\n",
    "    print(f\"Balance: {a}\")\n",
    "    print(f\"Current bet: {z}\")\n",
    "    print(f\"You currently have {sum(x)} {x}, the dealer is showing {y[1]}\")"
   ]
  },
  {
   "cell_type": "code",
   "execution_count": 5,
   "id": "ca872786",
   "metadata": {},
   "outputs": [],
   "source": [
    "def bj_check(x):\n",
    "    return sum(x) == 21"
   ]
  },
  {
   "cell_type": "code",
   "execution_count": 6,
   "id": "8fab2b3a",
   "metadata": {},
   "outputs": [],
   "source": [
    "def bust_check(x):\n",
    "    return sum(x) > 21"
   ]
  },
  {
   "cell_type": "code",
   "execution_count": 7,
   "id": "40bae9bf",
   "metadata": {},
   "outputs": [],
   "source": [
    "def ace_converter(x): # Converts aces to 1's if hand count reaches over 21\n",
    "    if sum(x) > 21 and 11 in x:\n",
    "        for i in range(len(x)):\n",
    "            if x[i] == 11:\n",
    "                x[i] = 1\n",
    "                if sum(x) < 21:\n",
    "                    break"
   ]
  },
  {
   "cell_type": "code",
   "execution_count": 9,
   "id": "6712d1f2",
   "metadata": {},
   "outputs": [],
   "source": [
    "def win_check(x, y): # Checking all possible win conditions for both players\n",
    "    if sum(x) == sum(y):\n",
    "        return 3\n",
    "    elif sum(x) == 21 or sum(y) == 21:\n",
    "        if sum(x) == 21:\n",
    "            return 1\n",
    "        if sum(y) == 21:\n",
    "            return 0\n",
    "    elif sum(x) > 21 or sum(y) > 21:\n",
    "        if sum(x) > 21:\n",
    "            return 0\n",
    "        if sum(y) > 21:\n",
    "            return 1\n",
    "    else:\n",
    "        if sum(x) > sum(y):\n",
    "            return 1\n",
    "        if sum(y) > sum(x):\n",
    "            return 0"
   ]
  },
  {
   "cell_type": "code",
   "execution_count": 10,
   "id": "eed66b2e",
   "metadata": {},
   "outputs": [],
   "source": [
    "def print_ending(x, y): # Print function for all possible outcomes\n",
    "    if sum(x) == sum(y):\n",
    "        print(f\"The round has concluded to a draw! Dealer shows {sum(y)} {y}\")\n",
    "    elif sum(x) == 21 or sum(y) == 21:\n",
    "        if sum(x) == 21:\n",
    "            print(f\"You have Blackjack! {sum(x)} {x}, dealer has {sum(y)} {y}\")\n",
    "        if sum(y) == 21:\n",
    "            print(f\"Dealer has Blackjack! Showing {sum(y)} {y}\")\n",
    "    elif sum(x) > 21 or sum(y) > 21:\n",
    "        if sum(x) > 21:\n",
    "            print(f\"You busted! {sum(x)} {x}, the dealer had {sum(y)} {y}\")\n",
    "        if sum(y) > 21:\n",
    "            print(f\"Dealer busts! Showing {sum(y)} {y}\")\n",
    "    else:\n",
    "        if sum(x) > sum(y):\n",
    "            print(f\"You win! Dealer is showing {sum(y)} {y}\")\n",
    "        if sum(y) > sum(x):\n",
    "            print(f\"You lost! Dealer is showing {sum(y)} {y}\")"
   ]
  },
  {
   "cell_type": "code",
   "execution_count": 11,
   "id": "94e10686",
   "metadata": {},
   "outputs": [],
   "source": [
    "def stand_or_hit(): # Simple input for user choice to stand or hit\n",
    "    return input(\"Do you want to stand or hit? \").lower().startswith(\"s\")"
   ]
  },
  {
   "cell_type": "code",
   "execution_count": 12,
   "id": "d3ab0876",
   "metadata": {},
   "outputs": [],
   "source": [
    "def replay(): # Play again function\n",
    "    return input(\"Do you want to play again? Enter Y/N \").lower().startswith(\"y\")"
   ]
  },
  {
   "cell_type": "code",
   "execution_count": 13,
   "id": "07fbe1f0",
   "metadata": {
    "scrolled": true
   },
   "outputs": [
    {
     "name": "stdout",
     "output_type": "stream",
     "text": [
      "Balance: 1\n",
      "Current bet: 1\n",
      "You currently have 13 [10, 3], the dealer is showing 10\n",
      "Dealer has Blackjack! Showing 21 [11, 10]\n",
      "New Balance: 0\n",
      "No more money left, better luck next time!\n"
     ]
    }
   ],
   "source": [
    "print(\"\"\"\n",
    "Hello and welcome to the Nod Casino! Here we only play Blackjack.\n",
    "\n",
    "Rules: Dealer will play with one deck, stand on soft seventeens and shuffle the deck between rounds.\n",
    "\n",
    "\"\"\")\n",
    "\n",
    "bank = 0\n",
    "\n",
    "while bank <= 0: # Initial deposit, makes sure user can't put a negative figure in their balance\n",
    "    bank = int(input(\"What would you like to deposit? \"))\n",
    "\n",
    "#gameon = True\n",
    "\n",
    "while True:\n",
    "    deck = [2,3,4,5,6,7,8,9,10,10,10,10,11]*4 # Deck of cards, four tens represent 10, J, Q, K\n",
    "    hand = []\n",
    "    house = []\n",
    "    bet = 0\n",
    "    \n",
    "    print(f\"Balance: {bank}\")\n",
    "    \n",
    "    while bet <= 0 or bet > bank: # Prompts user to bet, doesn't accept negative bets\n",
    "        bet = int(input(\"Place your bets, place your bets! \"))\n",
    "        \n",
    "    while len(house) < 2: # First two cards dealt to each player, dealer is dealt last\n",
    "        hand.append(draw_card(deck))\n",
    "        ace_converter(hand)\n",
    "        house.append(draw_card(deck))\n",
    "        ace_converter(house)\n",
    "        \n",
    "    print_table(hand, house, bet, bank)\n",
    "        \n",
    "    if bj_check(hand) == False and bj_check(house) == False: # Stops the player from being prompted about standing or hitting if blackjack hits, busts not possible on the initial deal\n",
    "        player_turn = True\n",
    "    else:\n",
    "        player_turn = False\n",
    "    \n",
    "    while player_turn:\n",
    "        while stand_or_hit() == False and bj_check(hand) == False:\n",
    "            hand.append(draw_card(deck))\n",
    "            ace_converter(hand)\n",
    "            print_table(hand, house, bet, bank)\n",
    "            \n",
    "            \n",
    "            if bj_check(hand):\n",
    "                player_turn = False\n",
    "                break\n",
    "            if bust_check(hand): # Same as above, added a check if the player busts here. Break and player_turn = False are failsafes to really end the player turn\n",
    "                player_turn = False\n",
    "                break\n",
    "        \n",
    "        player_turn = False\n",
    "        \n",
    "    if player_turn == False and bust_check(hand) == False: # Another failsafe checks if player turn is true or false\n",
    "        while count_hand(house) < 17:\n",
    "            house.append(draw_card(deck))\n",
    "            ace_converter(house)\n",
    "            \n",
    "            if bust_check(house):\n",
    "                break\n",
    "            if bj_check(house):\n",
    "                break\n",
    "                \n",
    "    result = win_check(hand, house) # Final tally after the dealer has dealt to himself, standing on soft 17 - Checks the win condition to manage the balance relative to the bet and prints the result as well\n",
    "    if result == 1:\n",
    "        bank += bet\n",
    "    elif result == 0:\n",
    "        bank -= bet\n",
    "    elif result == 3:\n",
    "        pass\n",
    "    print_ending(hand, house)\n",
    "            \n",
    "    print(f\"New Balance: {bank}\")\n",
    "    \n",
    "    if bank <= 0: # Option for the player to stop, by drained balance\n",
    "        print(\"No more money left, better luck next time!\")\n",
    "        break\n",
    "    \n",
    "    if not replay(): # Option for the player to stop, by own choice\n",
    "        clear_output()\n",
    "        print(f\"You walk away with {bank}\")\n",
    "        break\n",
    "    else:\n",
    "        clear_output()    "
   ]
  },
  {
   "cell_type": "code",
   "execution_count": null,
   "id": "6f47deae",
   "metadata": {
    "scrolled": false
   },
   "outputs": [],
   "source": []
  },
  {
   "cell_type": "code",
   "execution_count": null,
   "id": "791f7f60",
   "metadata": {},
   "outputs": [],
   "source": []
  }
 ],
 "metadata": {
  "kernelspec": {
   "display_name": "Python 3 (ipykernel)",
   "language": "python",
   "name": "python3"
  },
  "language_info": {
   "codemirror_mode": {
    "name": "ipython",
    "version": 3
   },
   "file_extension": ".py",
   "mimetype": "text/x-python",
   "name": "python",
   "nbconvert_exporter": "python",
   "pygments_lexer": "ipython3",
   "version": "3.11.5"
  }
 },
 "nbformat": 4,
 "nbformat_minor": 5
}
